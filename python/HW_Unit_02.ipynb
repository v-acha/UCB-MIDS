{
 "cells": [
  {
   "cell_type": "markdown",
   "metadata": {},
   "source": [
    "## Unit 2 Assignment - DATASCI200 Introduction to Data Science Programming, UC Berkeley MIDS"
   ]
  },
  {
   "cell_type": "markdown",
   "metadata": {},
   "source": [
    "Write code in this Jupyter Notebook to solve the following problems. Please upload this **Notebook** with your solutions to your GitHub repository and gradescope.\n",
    "\n",
    "Assignment due date: 11:59PM PT the night before the Week 3 Live Session."
   ]
  },
  {
   "cell_type": "markdown",
   "metadata": {},
   "source": [
    "## Objectives:\n",
    "\n",
    "- Demonstrate how to obtain user input into a Python script\n",
    "- Demonstrate outputting useful information to the user in the correct format\n",
    "- Use Python numerical and string variables to calculate values and output these to the user\n",
    "- Demonstrate use of the while loop and if statements"
   ]
  },
  {
   "cell_type": "markdown",
   "metadata": {},
   "source": [
    "## General Guidelines:\n",
    "\n",
    "- In each code block, do NOT delete the ### comment at the top of a cell (it's needed for the auto-grading!)\n",
    "  - Full autograder tests and results are on gradescope.\n",
    "  - You will get the full 100 points from the autograder for this assignment.\n",
    "  - You may upload and run the autograder as many times as needed in your time window to get full points\n",
    "  - The assignment needs to be named HW_Unit_02.ipynb to be graded from the autograder!\n",
    "  - The examples given are samples of how we will test/grade your code.\n",
    "    - Please ensure your code outputs the exact same information / format!\n",
    "    - In addition to the given example, the autograder will test other examples\n",
    "    - Each autograder test tells you what input it is using\n",
    "  - Once complete, the autograder will show each tests, if that test is passed or failed, and your total score\n",
    "  - The autograder fails for a couple of reasons:\n",
    "    - Your code crashes with that input (for example: `Test Failed: string index out of range`)\n",
    "    - Your code output does not match the 'correct' output (for example: `Test Failed: '1 2 3 2 1' != '1 4 6 4 1'`)\n",
    "- Please format your input and output strings to be user friendly. See Module 2.12.2. For example, in the first problem below, format the tip to two decimal places like 15.25 instead of 15.25000001.\n",
    "- Limited user input validation and error checking is encouraged on this assignment. Each question below will indicate the type of input that you can expect. (for example, if the question states the input will be an integer you can expect the user to input an integer and do not need to check to ensure it is an integer versus a float or a string)\n",
    "- Adding comments in your code is strongly suggested but won't be graded.\n",
    "- The examples given are samples of how we will test/grade your code. Please ensure your scripts output the same information.\n",
    "- If you are stuck on a problem or do not understand a question - please come to office hours or ask questions to the class Google group (please don't post your code though). If it is a coding problem send a private email to all of the instructors at: mids-python-instructors@googlegroups.com.\n",
    "- We also have a TA tutors for extra help and 1 on 1 sessions!\n",
    "- Hints are given in some of the questions; these are optional so you do NOT need to use the hint (or code your answer that way) as long as your code meets the requirements of the problem.\n",
    "- You may use any libraries from the Python Standard Library for this assignment: https://docs.python.org/3/library/"
   ]
  },
  {
   "cell_type": "markdown",
   "metadata": {},
   "source": [
    "## Grading Rubric\n",
    "\n",
    "General grading rubric guidelines / philosophy:\n",
    "\n",
    "- The total possible points will be shown for each question\n",
    "- Please read each question carefully to understand the requirements\n",
    "- Points for each question are rewarded based on how well your code fulfills those requirements\n",
    "- Some problems have an example given to help show what is needed and how to format the answer\n",
    "- For the first question (2-1) below, a detailed grading rubric is given as an example.\n",
    "- For the rest of the questions, its up to you to determine the requirements and code them!"
   ]
  },
  {
   "cell_type": "markdown",
   "metadata": {},
   "source": [
    "### 2-1. Tip Calculator (20 points)\n",
    "\n",
    "Below, you can see the script we wrote to compute the tip for a meal. Fix it so that it works correctly. Also change the last print lines to format the output to 2 decimal places. Expect the input to be a **number.** \n",
    "\n",
    "Example Grading Rubric:\n",
    "- 5 points: fixing the crash so the program works with int numbers (for example: 10)\n",
    "- 5 points: fixing the crash so the program works with float numbers (for example: 4.99)\n",
    "- 5 points: formatting the tip output correctly to 2 decimal places\n",
    "- 5 points: formatting the total output correctly to 2 decimal places\n",
    "\n",
    "Example:\n",
    "\n",
    "```\n",
    "Enter the price of a meal: 10\n",
    "A 16% tip would be: 1.60\n",
    "The total including tip would be: 11.60\n",
    "```"
   ]
  },
  {
   "cell_type": "code",
   "execution_count": 3,
   "metadata": {},
   "outputs": [
    {
     "name": "stdout",
     "output_type": "stream",
     "text": [
      "A 16% tip would be: 16.00\n",
      "The total including tip would be: 116.00\n"
     ]
    }
   ],
   "source": [
    "### Q2-1 Grading Tag: Please put your entire solution in this cell. Don't edit this line.\n",
    "price = float(input(\"Enter the price of a meal: \")) #fixing price to be accept float and int numbers.\n",
    "price_type = int if price.is_integer() else float # allows for whole and decimal number inputs.\n",
    "\n",
    "tip = price * 0.16\n",
    "total = price + tip\n",
    "\n",
    "##print(\"Enter the price of a meal:\", price_type(price)) #this price_type(price) prints user number as is without converting all inputs to floats.\n",
    "print(\"A 16% tip would be:\",format(tip, \".2f\")) #formatting tip output to 2 decimal places.\n",
    "print(\"The total including tip would be:\", format(total,\".2f\")) #formatting total output to 2 decimal places.\n"
   ]
  },
  {
   "cell_type": "markdown",
   "metadata": {},
   "source": [
    "### 2-2. Gas Pump Informer (20 points)\n",
    "\n",
    "Write a script that prompts the user for a **number** of gallons of gasoline. Reprint that value, along with its conversion to other measurements:\n",
    "\n",
    "- Equivalent number of liters (format to 4 decimals)\n",
    "- Number of barrels of oil required to produce it (format to 3 decimals)\n",
    "- Price in U.S. dollars (format to 2 decimals)\n",
    "\n",
    "Figures to use:\n",
    "\n",
    "- 1 gallon is equivalent to 3.7854 liters.\n",
    "- 1 barrel of oil produces 19.5 gallons of gas.\n",
    "- The average price of gas is approximately $4.31 per gallon.\n",
    "\n",
    "Example:\n",
    "\n",
    "```\n",
    "Please enter a number of gallons of gasoline: 10\n",
    "10 gallons of gasoline is equivalent to 37.8540 liters\n",
    "Requires 0.513 barrels of oil to produce\n",
    "The price in U.S. dollars is approximately $43.10\n",
    "```"
   ]
  },
  {
   "cell_type": "code",
   "execution_count": 7,
   "metadata": {
    "collapsed": true
   },
   "outputs": [
    {
     "name": "stdout",
     "output_type": "stream",
     "text": [
      "10 gallons of gasoline is equivalent to 37.8540 liters\n",
      "Requires 0.513 barrels of oil to produce\n",
      "The price in U.S. dollars is approximately $43.10\n"
     ]
    }
   ],
   "source": [
    "### Q2-2 Grading Tag: Please put your entire solution in this cell. Don't edit this line.\n",
    "gallons = float(input(\"Please enter a number of gallons of gasoline: \")) \n",
    "gal_type = int if gallons.is_integer() else float\n",
    "liter = 3.7854\n",
    "oil_barrel = 19.5\n",
    "price_per_gallon= 4.31\n",
    "\n",
    "liters_per_gallon = gallons * liter  #calculates the number of liters in entered gallon\n",
    "barrels_needed = gallons / oil_barrel                   ## OLD FORMULA >> oil_barrel / liters_per_gallon # calculates number of gallons in a barrel 1 gallon returns 5.151 gallons\n",
    "total_price = gallons * price_per_gallon #calculates the price per gallons entered\n",
    "\n",
    "format_total_price = f\"${total_price:.2f}\" #this formats to 2 decimal places and adds the $ currency\n",
    "\n",
    "##print(\"Please enter a number of gallons of gasoline:\", gal_type(gallons)) #gal_type(gallons) prints user input as is without converting to float.\n",
    "print(gal_type(gallons), \"gallons of gasoline is equivalent to\",format(liters_per_gallon, \".4f\"), \"liters\") #prints liters equivalent to input gallons and formats to 4 decimal places.\n",
    "print(\"Requires\",format(barrels_needed, \".3f\"), \"barrels of oil to produce\") #prints barrels needed to produce input # gallons and formats to 3 decimal places.\n",
    "print(\"The price in U.S. dollars is approximately\",format_total_price) #prints price for x # gallons, and formats to 2 decimal places.\n"
   ]
  },
  {
   "cell_type": "markdown",
   "metadata": {},
   "source": [
    "### 2-3. Number Averager (20 points)\n",
    "\n",
    "Write a script that prompts the user for **two numbers**, a and b. Then, prompt the user to enter a type of average out of the three options below. Make it so the user would just type in a **number** 1, 2 or 3 for the average (i.e. 1 for arithmetic mean, 2 for geometric mean, or 3 for root-mean-square). This numerical selection is an example of how to give the user a simple response that will get around potential spelling errors and head off user frustration. This design decision makes the user interaction more robust. Output the correct average, based on what the user selected. Format the answer to four decimal places.\n",
    "\n",
    "1. The arithmetic mean:  $(a + b) / 2 $\n",
    "2. The geometric mean:  $\\sqrt{ab}$\n",
    "3. The root-mean-square: $\\sqrt{\\frac{a^2 + b^2}{2}}$\n",
    "\n",
    "Example:\n",
    "```\n",
    "Please provide the first number to average: 1\n",
    "Please provide the second number to average: 2\n",
    "Please select the type of average.\n",
    "    1. The arithmetic mean: (a + b)/2\n",
    "    2. The geometric mean: sqrt(a * b)\n",
    "    3. The root-mean-square: sqrt((a^2 + b^2)/2)\n",
    "Enter a number (1, 2 or 3) from the list above: 1\n",
    "\n",
    "The arithmetic mean is: 1.5000\n",
    "```"
   ]
  },
  {
   "cell_type": "code",
   "execution_count": 73,
   "metadata": {
    "collapsed": true
   },
   "outputs": [
    {
     "name": "stdout",
     "output_type": "stream",
     "text": [
      "Please provide the first number to average: 1\n",
      "Please provide the second number to average: 2\n",
      "Please select the type of average.\n",
      "    1.The arithmetic mean: (a + b)/2)\n",
      "    2.The geometric mean: sqrt(a * b)\n",
      "    3.The root-mean-square: sqrt((a^2 + b^2)/2)\n",
      "Enter a number (1, 2, or 3) from the list above: 1\n",
      "\n",
      "The arithmetic mean is: 1.5000\n"
     ]
    }
   ],
   "source": [
    "### Q2-3 Grading Tag: Please put your entire solution in this cell. Don't edit this line.\n",
    "import math\n",
    "\n",
    "number1 = float(input(\"Please provide the first number to average: \"))\n",
    "number2 = float(input(\"Please provide the second number to average: \")) \n",
    "\n",
    "#stores the type of input to maintain original user input instead of the defined float type.\n",
    "n1_type = int if number1.is_integer() else float\n",
    "n2_type = int if number2.is_integer() else float\n",
    "Average_selection = int(input(\"\"\"Please select the type of average.\n",
    "                              1.The arithmetic mean: (a + b)/2\n",
    "                              2.The geometric mean: sqrt(a * b)\n",
    "                              3. The root-mean-square: sqrt((a^2 + b^2)/2) \n",
    "                              Enter a number (1, 2, 3) from the list above:\"\"\"))\n",
    "#print statements\n",
    "print(\"Please provide the first number to average:\",n1_type(number1)) #displays the format of the number entered by the user instead of showing all inputs as floats. \n",
    "print(\"Please provide the second number to average:\",n2_type(number2)) #displays the format of the number entered by the user instead of showing all inputs as floats.\n",
    "print(\"Please select the type of average.\")\n",
    "print(\"\"\"    1.The arithmetic mean: (a + b)/2)\n",
    "    2.The geometric mean: sqrt(a * b)\n",
    "    3.The root-mean-square: sqrt((a^2 + b^2)/2)\"\"\")\n",
    "print(\"Enter a number (1, 2, or 3) from the list above:\",Average_selection )\n",
    "\n",
    "#calculations based on selection.\n",
    "arithmetic_mean = \"{:.4f}\".format((number1 + number2) /2) #calculates arithmetic mean and formats to 4 decimal places.\n",
    "geometric_mean = \"{:.4f}\".format(math.sqrt(number1 * number2) ) #calculates geometric mean and formats to 4 decimal places.\n",
    "root_mean_square= \"{:.4f}\".format(math.sqrt((number1**2 + number2 **2)/ 2)) # calculation of the root mean square and formats to 4 decimal places.\n",
    "if Average_selection == 1:\n",
    "    print(\"\\nThe arithmetic mean is:\", arithmetic_mean)\n",
    "elif Average_selection == 2:\n",
    "    print(\"\\nThe geometric mean is:\", geometric_mean )\n",
    "elif Average_selection == 3:\n",
    "    print(\"\\nThe root-mean-square is:\", root_mean_square)\n",
    "else:\n",
    "    print(\"Invalid choice. Please enter 1, 2, or 3\") ##handles exception error such that if a user enters anything other than 1, 2,3, the output prints tells the user to enter 1,2,3\n"
   ]
  },
  {
   "cell_type": "markdown",
   "metadata": {},
   "source": [
    "### 2-4. Income Tax (20 points)\n",
    "\n",
    "The mythical island nation of Laskoatu has a rather simple tax code.  The first 1000 dollars of income is taxed at 5%.  The next 1000 dollars is taxed at 10%.  Any income beyond the first 2000 dollars is taxed at 15%.  Complete the following script so that it asks the user for his or her income (a **number**) and outputs the amount of tax owed. Format numbers to 2 decimal places.\n",
    "\n",
    "Example:\n",
    "```\n",
    "Please enter your income: 1500\n",
    "\n",
    "The tax owed is: $100.00 \n",
    "```"
   ]
  },
  {
   "cell_type": "code",
   "execution_count": 72,
   "metadata": {},
   "outputs": [
    {
     "name": "stdout",
     "output_type": "stream",
     "text": [
      "Please enter your income: 1500\n",
      "The tax owed is: $100.00\n"
     ]
    }
   ],
   "source": [
    "### Q2-4 Grading Tag: Please put your entire solution in this cell. Don't edit this line.\n",
    "income = float(input(\"Please enter your income: \"))\n",
    "inc_type = int if income.is_integer() else float\n",
    "income1 = 1000\n",
    "income2= 2000\n",
    "\n",
    "if income <= income1:\n",
    "    tax = (income * 0.05) # this multiplies the income if the income entered is less than or equal to 100\n",
    "elif income <= income2:\n",
    "    tax = (income1 * 0.05) + ((income  - income1) * 0.10 ) #returns output if income is greater than 2000\n",
    "else:\n",
    "    tax = (income1 * 0.05) + (income1  * 0.10 ) + ((income - income2) * 0.15) #thisi calculates when income entered passes both conditions above. \n",
    "\n",
    "print(\"Please enter your income:\", inc_type(income)) #prints income input as is.\n",
    "print(f\"The tax owed is: ${tax:.2f}\") "
   ]
  },
  {
   "cell_type": "markdown",
   "metadata": {},
   "source": [
    "### 2-5. Palindrome (20 points)\n",
    "\n",
    "Write a script that prompts the user for a name (this input will be a **1 word string**). Using a while loop that counts downwards, print the letters of the name reversed (hint: you can use print(var, end='') in each iteration of the loop). You cannot use the 'reverse' function or the string slicing [::-1] method for this problem! You should use s.lower() and s.upper(), as appropriate, to change the string to lowercase and print it out with only the first letter of the reversed word in uppercase. If the name is the same forward and backwards, print \"Palindrome!\" on the next line. Make sure your code prints the sample examples exactly as shown below.\n",
    "\n",
    "Hint: You can use string concatenation in place of the reverse or string slicing [::-1] methods.\n",
    "\n",
    "Examples:\n",
    "```\n",
    "Enter your name: Paul\n",
    "Luap\n",
    "\n",
    "Enter your name: ANA\n",
    "Ana\n",
    "Palindrome!\n",
    "```"
   ]
  },
  {
   "cell_type": "code",
   "execution_count": 74,
   "metadata": {},
   "outputs": [
    {
     "name": "stdout",
     "output_type": "stream",
     "text": [
      "Enter your name: ANA\n",
      "Ana\n",
      "Palindrome!\n"
     ]
    }
   ],
   "source": [
    "### Q2-5 Grading Tag: Please put your entire solution in this cell. Don't edit this line.\n",
    "    \n",
    "    #while loop function to reverse string.\n",
    "def rev_name_while_loop(str):\n",
    "    reversed_name = \"\" #this is an empty string variable and will be used to store the reverse version of the input_name string.\n",
    "    name_length = len(str) - 1 # the len() function calculates the length of the string stored the text variable and then assigns the result to the ;enght variable. subtracting 1 because \n",
    "    \n",
    "    while name_length >= 0:  #while loop used for continous execution as long as the condition length > 0 remains true.\n",
    "        reversed_name = reversed_name + str[name_length].lower()\n",
    "        name_length = name_length - 1 #this takes the letters from the input string and reverses it\n",
    "        reversed_name = reversed_name[0].upper() + reversed_name[1:] # converts  1st letter of string to uppercase and concatenates with remaining lowercase letters. reversed_name[1:] starting at index 1\n",
    "    return reversed_name\n",
    "\n",
    "#only prints the results if user input has no spaces and outputs error message.\n",
    "input_str = str(input(\"Please enter your name: \"))\n",
    "if \" \" in input_str:\n",
    "       print(\"Invalide input. Please enter your name without spaces!\")\n",
    "else:\n",
    "       rev_name_while_loop(input_str)\n",
    "\n",
    "       print(\"Enter your name:\", input_str)\n",
    "       print(rev_name_while_loop(input_str))  #outputs reversed new name\n",
    "\n",
    "       if input_str.lower() == rev_name_while_loop(input_str).lower():  #converts all the letters of the input string and while loop function to lower for accurate comparison of letters. if they are not in the same form, palindromes aren't picked.\n",
    "            print(\"Palindrome!\")"
   ]
  },
  {
   "cell_type": "markdown",
   "metadata": {
    "collapsed": true
   },
   "source": [
    "## If you have feedback for this homework, please submit it using the link below:\n",
    "\n",
    "http://goo.gl/forms/74yCiQTf6k"
   ]
  }
 ],
 "metadata": {
  "anaconda-cloud": {},
  "kernelspec": {
   "display_name": "Python 3",
   "language": "python",
   "name": "python3"
  },
  "language_info": {
   "codemirror_mode": {
    "name": "ipython",
    "version": 3
   },
   "file_extension": ".py",
   "mimetype": "text/x-python",
   "name": "python",
   "nbconvert_exporter": "python",
   "pygments_lexer": "ipython3",
   "version": "3.11.4"
  }
 },
 "nbformat": 4,
 "nbformat_minor": 1
}
