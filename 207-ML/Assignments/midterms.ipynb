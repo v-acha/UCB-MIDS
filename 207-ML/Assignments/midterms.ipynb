{
 "cells": [
  {
   "cell_type": "code",
   "execution_count": null,
   "metadata": {},
   "outputs": [],
   "source": [
    "import pandas as pd\n",
    "import numpy as np\n",
    "\n",
    "#reading with pandas\n",
    "df = pd.read_csv(\"health_outcomes.csv\")\n",
    "\n",
    "#reading with numpy assuming no missing values\n",
    "df = np.loadtxt(\"health_outcomes.csv\")\n",
    "\n",
    "# Load the CSV file into a NumPy array\n",
    "data = np.genfromtxt('health_outcomes.csv', delimiter=',', skip_header=1)  # skip_header=1 if you want to skip the header row\n"
   ]
  },
  {
   "cell_type": "markdown",
   "metadata": {},
   "source": [
    "Data Preprocessing - General"
   ]
  },
  {
   "cell_type": "code",
   "execution_count": null,
   "metadata": {},
   "outputs": [],
   "source": []
  }
 ],
 "metadata": {
  "kernelspec": {
   "display_name": "base",
   "language": "python",
   "name": "python3"
  },
  "language_info": {
   "name": "python",
   "version": "3.11.4"
  }
 },
 "nbformat": 4,
 "nbformat_minor": 2
}
