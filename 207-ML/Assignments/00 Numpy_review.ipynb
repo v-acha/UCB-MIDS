{
 "cells": [
  {
   "cell_type": "markdown",
   "id": "68d2f193",
   "metadata": {},
   "source": [
    "# Assignment 0"
   ]
  },
  {
   "cell_type": "markdown",
   "id": "231ec299",
   "metadata": {},
   "source": [
    "### <span style=\"color:chocolate\"> Submission requirements </span>\n",
    "\n",
    "Your work will not be graded if your notebook doesn't include output. In other words, <span style=\"color:red\"> make sure to rerun your notebook before submitting to Gradescope </span> (Note: if you are using Google Colab: go to Edit > Notebook Settings  and uncheck Omit code cell output when saving this notebook, otherwise the output is not printed).\n",
    "\n",
    "Additional points may be deducted if these requirements are not met:\n",
    "\n",
    "    \n",
    "* Comment your code;\n",
    "* Each graph should have a title, labels for each axis, and (if needed) a legend. Each graph should be understandable on its own;\n",
    "* Try and minimize the use of the global namespace (meaning, keep things inside functions).\n",
    "---"
   ]
  },
  {
   "cell_type": "markdown",
   "id": "aae36a3a",
   "metadata": {},
   "source": [
    "### Import libraries"
   ]
  },
  {
   "cell_type": "code",
   "execution_count": 2,
   "id": "1d2c9a02",
   "metadata": {},
   "outputs": [],
   "source": [
    "import numpy as np\n",
    "np.random.seed(seed=1)"
   ]
  },
  {
   "cell_type": "markdown",
   "id": "8fb0f91b",
   "metadata": {},
   "source": [
    "---\n",
    "### <span style=\"color:chocolate\">Exercise 1:</span> Homogenous data types (10 points)\n",
    "\n",
    "1. Create a numpy array (my_array1) containing only integer values. Print the shape of the array and the type of its elements;\n",
    "2. Create another numpy array (my_array2) containing a mix of integer and string values. Print the shape of the array and the type of its elements. Comment on the type of its elements."
   ]
  },
  {
   "cell_type": "code",
   "execution_count": 4,
   "id": "49c4add6",
   "metadata": {},
   "outputs": [
    {
     "name": "stdout",
     "output_type": "stream",
     "text": [
      "myarray_1 Shape: (6,)\n",
      "myarray_1 Type: int64\n",
      "myarray_2 Shape: (6,)\n",
      "myarray_2 Type: <U21\n"
     ]
    }
   ],
   "source": [
    "# YOUR CODE HERE\n",
    "my_array1 = np.array([2,3,4,6,7,9])\n",
    "print(\"myarray_1 Shape:\", my_array1.shape)\n",
    "print(\"myarray_1 Type:\", my_array1.dtype)\n",
    "\n",
    "my_array2 = np.array([2,3,\"me\",4,\"John\",\"Sarah\"])\n",
    "print(\"myarray_2 Shape:\",my_array2.shape)\n",
    "print(\"myarray_2 Type:\", my_array2.dtype)"
   ]
  },
  {
   "cell_type": "markdown",
   "id": "2e42363d",
   "metadata": {},
   "source": [
    "the dtype describes how bytes in the array should be interpreted: \n",
    "- the first array (my_array1) has an int data type : 64-bit integer number\n",
    "- the second array (my_array2) has \"<U21\" which means that it contains 21 characters. The elements of the array are being promoted"
   ]
  },
  {
   "cell_type": "markdown",
   "id": "8becfbd2",
   "metadata": {},
   "source": [
    "---\n",
    "#### <span style=\"color:chocolate\">Exercise 2:</span> The size attribute (10 points)\n",
    "\n",
    "Create a numpy array (my_array3) and print its shape, size, and data type. What does size represent?"
   ]
  },
  {
   "cell_type": "code",
   "execution_count": 5,
   "id": "8733dbc0",
   "metadata": {},
   "outputs": [
    {
     "name": "stdout",
     "output_type": "stream",
     "text": [
      "shape: (8,)\n",
      "size: 8\n",
      "data type: int64\n"
     ]
    }
   ],
   "source": [
    "# YOUR CODE HERE\n",
    "my_array3 = np.array([1,3,7,8,6,10,9,11])\n",
    "print(\"shape:\", my_array3.shape)\n",
    "print(\"size:\", my_array3.size)\n",
    "print(\"data type:\", my_array3.dtype)"
   ]
  },
  {
   "cell_type": "markdown",
   "id": "9ca9e857",
   "metadata": {},
   "source": [
    "The size represents how many elements are in the array."
   ]
  },
  {
   "cell_type": "markdown",
   "id": "89731f88",
   "metadata": {},
   "source": [
    "---\n",
    "#### <span style=\"color:chocolate\">Exercise 3:</span> Tabular data layout (10 points)"
   ]
  },
  {
   "cell_type": "markdown",
   "id": "89c8c4d9",
   "metadata": {},
   "source": [
    "Create a tabular data layout using the numpy method <span style=\"color:chocolate\">np.random.random()</span>, where:\n",
    "* the first input is num_samples, and\n",
    "* the second input is num_features. \n",
    "\n",
    "Print the shape of the array."
   ]
  },
  {
   "cell_type": "code",
   "execution_count": 6,
   "id": "dcabc0b0",
   "metadata": {},
   "outputs": [
    {
     "name": "stdout",
     "output_type": "stream",
     "text": [
      "Shape: (100, 17)\n"
     ]
    }
   ],
   "source": [
    "# already defined first and second inputs\n",
    "num_samples = 100\n",
    "num_features = 17\n",
    "\n",
    "# YOUR CODE HERE\n",
    "tabular_layout= np.random.random((num_samples,num_features))\n",
    "print(\"Shape:\",tabular_layout.shape)"
   ]
  },
  {
   "cell_type": "markdown",
   "id": "9ea1e400",
   "metadata": {},
   "source": [
    "---\n",
    "#### <span style=\"color:chocolate\">Exercise 4:</span> Image data layout (10 points)"
   ]
  },
  {
   "cell_type": "markdown",
   "id": "7c5b220a",
   "metadata": {},
   "source": [
    "Create an image data layout using the numpy method <span style=\"color:chocolate\">np.random.random()</span>, where:\n",
    "\n",
    "* the first input is num_images;\n",
    "* the second input is num_rows;\n",
    "* the third input is num_cols;\n",
    "* the fourth input is num_channels.\n",
    "\n",
    "Print the shape of the array."
   ]
  },
  {
   "cell_type": "code",
   "execution_count": 7,
   "id": "9b371f29",
   "metadata": {},
   "outputs": [
    {
     "name": "stdout",
     "output_type": "stream",
     "text": [
      "Shape: (100, 256, 256, 3)\n"
     ]
    }
   ],
   "source": [
    "# already defined inputs\n",
    "num_images = 100\n",
    "num_rows = 256\n",
    "num_cols = 256\n",
    "num_channels = 3 #(RGB)\n",
    "\n",
    "# YOUR CODE HERE\n",
    "image = np.random.rand(num_images, num_rows, num_cols, num_channels)\n",
    "print(\"Shape:\",image.shape)"
   ]
  },
  {
   "cell_type": "markdown",
   "id": "19d7b075",
   "metadata": {},
   "source": [
    "---\n",
    "#### <span style=\"color:chocolate\">Exercise 5: </span>Mathematical operations on numpy arrays (15 points)"
   ]
  },
  {
   "cell_type": "markdown",
   "id": "b88b701f",
   "metadata": {},
   "source": [
    "Create a (3, 2) numpy array (you can name it my_array4) containing only integer values. Perform the following tasks:\n",
    "\n",
    "1. Print the shape of the array;\n",
    "2. Print the sum of all elements (hint: the axis argument is set to None);\n",
    "3. Print the sum of all elements by column;\n",
    "3. Print the sum of all elements by row and change the type of the resulting array elements to float;\n",
    "5. Print the first row of the array;\n",
    "6. Print the second row of the array;\n",
    "7. Select the element at position (1, 0);\n",
    "8. Modify the element at position (2, 1) by setting its value to 10 and print the array again;\n",
    "9. Loop over elements in the array. Print the output."
   ]
  },
  {
   "cell_type": "code",
   "execution_count": 10,
   "id": "5efe6c22",
   "metadata": {},
   "outputs": [
    {
     "name": "stdout",
     "output_type": "stream",
     "text": [
      "my_array4:\n",
      " [[2 4]\n",
      " [3 5]\n",
      " [4 9]]\n",
      "shape: (3, 2)\n",
      "sum of all elements: 27\n",
      "sum of all elements by column: [ 9 18]\n",
      "Float sum of elements by row: [ 6.  8. 13.]\n",
      "first row: [2 4]\n",
      "Second row: [3 5]\n",
      "Element at position (1,0): 3\n",
      "my_array4 modified:\n",
      " [[ 2  4]\n",
      " [ 3  5]\n",
      " [ 4 10]]\n",
      "2\n",
      "4\n",
      "3\n",
      "5\n",
      "4\n",
      "10\n"
     ]
    }
   ],
   "source": [
    "# YOUR CODE HERE\n",
    "my_array4 = np.array(([2,4],[3,5],[4,9]))\n",
    "\n",
    "\n",
    "print(\"my_array4:\\n\",my_array4)\n",
    "print(\"shape:\", my_array4.shape)\n",
    "print(\"sum of all elements:\",np.sum(my_array4, axis=None))\n",
    "print(\"sum of all elements by column:\", np.sum(my_array4, axis=0))\n",
    "print(\"Float sum of elements by row:\",np.sum(my_array4, axis=1 , dtype=float))\n",
    "print(\"first row:\",my_array4[0])\n",
    "print(\"Second row:\",my_array4[1])\n",
    "print(\"Element at position (1,0):\",my_array4[1][0])\n",
    "\n",
    "my_array4[2,1]= 10\n",
    "print(\"my_array4 modified:\\n\",my_array4)\n",
    "\n",
    "for element in np.nditer(my_array4):\n",
    "    print(element)"
   ]
  },
  {
   "cell_type": "markdown",
   "id": "7a7e249a",
   "metadata": {},
   "source": [
    "You can find more examples here: https://numpy.org/doc/stable/reference/routines.math.html"
   ]
  },
  {
   "cell_type": "markdown",
   "id": "7f71edb9",
   "metadata": {},
   "source": [
    "---\n",
    "#### <span style=\"color:chocolate\">Exercise 6:</span> Create arrays (15 points)\n",
    "\n",
    "1. Create and print a (3,2) numpy array of pixel values between 0 and 1.\n",
    "2. Create and print a (27,) numpy array representing years from 1991 to 2017\n",
    "3. Create and print a (3, 5, 10) numpy array of zeros\n",
    "4. Create and print a (3, 5, 10) numpy array of ones\n",
    "5. Create and print an array with a constant value (let's say 5) using np.ones()\n",
    "6. Create and print an array with random numbers drawn from a normal distribution with mean 0 and standard deviation 1. Set the sample size to 10.\n"
   ]
  },
  {
   "cell_type": "code",
   "execution_count": 11,
   "id": "b1bf53cb",
   "metadata": {},
   "outputs": [
    {
     "name": "stdout",
     "output_type": "stream",
     "text": [
      "[[0.28999571 0.50818013]\n",
      " [0.47655793 0.57281228]\n",
      " [0.53403895 0.66869277]]\n",
      "[1991 1992 1993 1994 1995 1996 1997 1998 1999 2000 2001 2002 2003 2004\n",
      " 2005 2006 2007 2008 2009 2010 2011 2012 2013 2014 2015 2016 2017] (27,)\n",
      "[[[0. 0. 0. 0. 0. 0. 0. 0. 0. 0.]\n",
      "  [0. 0. 0. 0. 0. 0. 0. 0. 0. 0.]\n",
      "  [0. 0. 0. 0. 0. 0. 0. 0. 0. 0.]\n",
      "  [0. 0. 0. 0. 0. 0. 0. 0. 0. 0.]\n",
      "  [0. 0. 0. 0. 0. 0. 0. 0. 0. 0.]]\n",
      "\n",
      " [[0. 0. 0. 0. 0. 0. 0. 0. 0. 0.]\n",
      "  [0. 0. 0. 0. 0. 0. 0. 0. 0. 0.]\n",
      "  [0. 0. 0. 0. 0. 0. 0. 0. 0. 0.]\n",
      "  [0. 0. 0. 0. 0. 0. 0. 0. 0. 0.]\n",
      "  [0. 0. 0. 0. 0. 0. 0. 0. 0. 0.]]\n",
      "\n",
      " [[0. 0. 0. 0. 0. 0. 0. 0. 0. 0.]\n",
      "  [0. 0. 0. 0. 0. 0. 0. 0. 0. 0.]\n",
      "  [0. 0. 0. 0. 0. 0. 0. 0. 0. 0.]\n",
      "  [0. 0. 0. 0. 0. 0. 0. 0. 0. 0.]\n",
      "  [0. 0. 0. 0. 0. 0. 0. 0. 0. 0.]]]\n",
      "[[[1. 1. 1. 1. 1. 1. 1. 1. 1. 1.]\n",
      "  [1. 1. 1. 1. 1. 1. 1. 1. 1. 1.]\n",
      "  [1. 1. 1. 1. 1. 1. 1. 1. 1. 1.]\n",
      "  [1. 1. 1. 1. 1. 1. 1. 1. 1. 1.]\n",
      "  [1. 1. 1. 1. 1. 1. 1. 1. 1. 1.]]\n",
      "\n",
      " [[1. 1. 1. 1. 1. 1. 1. 1. 1. 1.]\n",
      "  [1. 1. 1. 1. 1. 1. 1. 1. 1. 1.]\n",
      "  [1. 1. 1. 1. 1. 1. 1. 1. 1. 1.]\n",
      "  [1. 1. 1. 1. 1. 1. 1. 1. 1. 1.]\n",
      "  [1. 1. 1. 1. 1. 1. 1. 1. 1. 1.]]\n",
      "\n",
      " [[1. 1. 1. 1. 1. 1. 1. 1. 1. 1.]\n",
      "  [1. 1. 1. 1. 1. 1. 1. 1. 1. 1.]\n",
      "  [1. 1. 1. 1. 1. 1. 1. 1. 1. 1.]\n",
      "  [1. 1. 1. 1. 1. 1. 1. 1. 1. 1.]\n",
      "  [1. 1. 1. 1. 1. 1. 1. 1. 1. 1.]]]\n",
      "[[5. 5. 5. 5. 5.]\n",
      " [5. 5. 5. 5. 5.]\n",
      " [5. 5. 5. 5. 5.]]\n",
      "[ 0.26378038  1.84100739  0.06769232 -2.13097594 -0.50118065 -0.28793625\n",
      "  0.59800247 -0.10996382 -0.48399206 -0.38879013]\n"
     ]
    }
   ],
   "source": [
    "# YOUR CODE HERE\n",
    "new_array = np.random.random((3,2))\n",
    "print(new_array)\n",
    "year_array = np.arange(1991, 2018)\n",
    "print(year_array, year_array.shape)\n",
    "print(np.zeros(shape=(3,5,10)))\n",
    "print(np.ones(shape=(3,5,10)))\n",
    "print(np.ones(shape=(3,5)) * 5)\n",
    "print(np.random.normal(loc=0, scale=1, size=10))"
   ]
  },
  {
   "cell_type": "markdown",
   "id": "4fd05963",
   "metadata": {},
   "source": [
    "---\n",
    "#### <span style=\"color:chocolate\">Exercise 7:</span> Reshape arrays (10 points)"
   ]
  },
  {
   "cell_type": "markdown",
   "id": "e139e4eb",
   "metadata": {},
   "source": [
    "Consider the following array:"
   ]
  },
  {
   "cell_type": "code",
   "execution_count": 12,
   "id": "a5a192dc",
   "metadata": {},
   "outputs": [
    {
     "name": "stdout",
     "output_type": "stream",
     "text": [
      "(27,)\n"
     ]
    }
   ],
   "source": [
    "years = np.arange(1991, 2018, 1)\n",
    "print(years.shape)"
   ]
  },
  {
   "cell_type": "markdown",
   "id": "d3255640",
   "metadata": {},
   "source": [
    "Perform the following operations on this array:\n",
    "    \n",
    "1. Create 3 nested arrays, each of size (3, 3). Call this array years_3d;\n",
    "2. Convert the years_3d array to a flat 1D array. Call this array years_1d;\n",
    "3. Add a new axis (in front) to the years_1d array. Call this array years_2d;\n",
    "4. Remove the first axis from years_2d array. Call this array years_1d.\n",
    "\n",
    "For each exercise print the array and its shape."
   ]
  },
  {
   "cell_type": "code",
   "execution_count": 13,
   "id": "ab18878a",
   "metadata": {},
   "outputs": [
    {
     "name": "stdout",
     "output_type": "stream",
     "text": [
      "[[[1991 1992 1993]\n",
      "  [1994 1995 1996]\n",
      "  [1997 1998 1999]]\n",
      "\n",
      " [[2000 2001 2002]\n",
      "  [2003 2004 2005]\n",
      "  [2006 2007 2008]]\n",
      "\n",
      " [[2009 2010 2011]\n",
      "  [2012 2013 2014]\n",
      "  [2015 2016 2017]]]\n",
      "[1991 1992 1993 1994 1995 1996 1997 1998 1999 2000 2001 2002 2003 2004\n",
      " 2005 2006 2007 2008 2009 2010 2011 2012 2013 2014 2015 2016 2017]\n",
      "(1, 27)\n",
      "(27,)\n"
     ]
    }
   ],
   "source": [
    "# YOUR CODE HERE\n",
    "#creating 3D nested array\n",
    "years_3d = np.arange(1991, 2018).reshape(3,3,3)\n",
    "print(years_3d)\n",
    "\n",
    "#flattening array\n",
    "years_1d = years_3d.flatten()\n",
    "print(years_1d)\n",
    "\n",
    "# Add a new axis in front\n",
    "years_2d = np.expand_dims(years_1d, axis=0)\n",
    "print(years_2d.shape)\n",
    "\n",
    "# Remove the first axis\n",
    "years_1d = np.squeeze(years_2d, axis=None)\n",
    "print(years_1d.shape)"
   ]
  },
  {
   "cell_type": "markdown",
   "id": "6a3a4011",
   "metadata": {},
   "source": [
    "---\n",
    "#### <span style=\"color:chocolate\">Exercise 8:</span> Joining arrays (10 points)"
   ]
  },
  {
   "cell_type": "markdown",
   "id": "5382a84a",
   "metadata": {},
   "source": [
    "Provide 8 examples that use the methods <span style=\"color:cornflowerBlue\">np.concatenate()</span> and <span style=\"color:cornflowerBlue\">np.stack()</span>. Note: create 4 examples using each method."
   ]
  },
  {
   "cell_type": "code",
   "execution_count": 14,
   "id": "a9c2ff1a",
   "metadata": {},
   "outputs": [
    {
     "name": "stdout",
     "output_type": "stream",
     "text": [
      "\n",
      "CONCATENATING\n",
      "1. Concatenated my_array1 & years_1d:\n",
      " [   2    3    4    6    7    9 1991 1992 1993 1994 1995 1996 1997 1998\n",
      " 1999 2000 2001 2002 2003 2004 2005 2006 2007 2008 2009 2010 2011 2012\n",
      " 2013 2014 2015 2016 2017]\n",
      "2. Concatenated combo:\n",
      " [[2 2 2 4 4 4]\n",
      " [2 2 2 4 4 4]\n",
      " [3 3 3 5 5 5]\n",
      " [3 3 3 5 5 5]]\n",
      "3. Concatenated along axis 0:\n",
      " [[0. 0. 0.]\n",
      " [0. 0. 0.]\n",
      " [0. 0. 0.]\n",
      " [1. 1. 1.]\n",
      " [1. 1. 1.]\n",
      " [1. 1. 1.]]\n",
      "4. Concatenated along axis 1:\n",
      " [[0. 0. 0. 1. 1. 1.]\n",
      " [0. 0. 0. 1. 1. 1.]\n",
      " [0. 0. 0. 1. 1. 1.]]\n",
      "\n",
      "STACKING\n",
      "1. Stacking myarray1 and 2 0:\n",
      " [['2' '2']\n",
      " ['3' '3']\n",
      " ['4' 'me']\n",
      " ['6' '4']\n",
      " ['7' 'John']\n",
      " ['9' 'Sarah']]\n",
      "\n",
      "2. Stacked along axis 0:\n",
      " [[[0. 0. 0.]\n",
      "  [0. 0. 0.]\n",
      "  [0. 0. 0.]]\n",
      "\n",
      " [[1. 1. 1.]\n",
      "  [1. 1. 1.]\n",
      "  [1. 1. 1.]]]\n",
      "\n",
      "3. Stacked along axis 1:\n",
      " [[[0. 0. 0.]\n",
      "  [1. 1. 1.]]\n",
      "\n",
      " [[0. 0. 0.]\n",
      "  [1. 1. 1.]]\n",
      "\n",
      " [[0. 0. 0.]\n",
      "  [1. 1. 1.]]]\n",
      "\n",
      "4. Stacked along axis 2:\n",
      " [[[0. 1.]\n",
      "  [0. 1.]\n",
      "  [0. 1.]]\n",
      "\n",
      " [[0. 1.]\n",
      "  [0. 1.]\n",
      "  [0. 1.]]\n",
      "\n",
      " [[0. 1.]\n",
      "  [0. 1.]\n",
      "  [0. 1.]]]\n"
     ]
    }
   ],
   "source": [
    "# YOUR CODE HERE\n",
    "array_zeros = np.zeros((3, 3))\n",
    "array_ones = np.ones((3, 3))\n",
    "\n",
    "#np.concatenate() examples\n",
    "print(\"\\nCONCATENATING\")\n",
    "#1. concatenating my_array1 and years1_d\n",
    "print(\"1. Concatenated my_array1 & years_1d:\\n\",np.concatenate((my_array1,years_1d), axis=0))\n",
    "# 2. Create arrays with different constant values\n",
    "array_twos = np.full((2, 3), 2)     # Array filled with 2s\n",
    "array_threes = np.full((2, 3), 3)   # Array filled with 3s\n",
    "array_fours = np.full((2, 3), 4)    # Array filled with 4s\n",
    "array_fives = np.full((2, 3), 5)    # Array filled with 5s\n",
    "\n",
    "# Concatenate along the first axis (rows), then concatenate along the second axis (columns)\n",
    "concat_combo = np.concatenate((\n",
    "    np.concatenate((array_twos, array_threes), axis=0),  # Stack twos on top of threes\n",
    "    np.concatenate((array_fours, array_fives), axis=0)   # Stack fours on top of fives\n",
    "), axis=1)  # Then stack side by side\n",
    "\n",
    "# Print result\n",
    "print(\"2. Concatenated combo:\\n\", concat_combo)\n",
    "\n",
    "# 3-4 Concatenate along rows (axis=0) and columns (axis=1)\n",
    "# Print results\n",
    "print(\"3. Concatenated along axis 0:\\n\", np.concatenate((array_zeros, array_ones), axis=0))\n",
    "print(\"4. Concatenated along axis 1:\\n\", np.concatenate((array_zeros, array_ones), axis=1))\n",
    "\n",
    "#using np.stack()\n",
    "print(\"\\nSTACKING\")\n",
    "# 1. combining arrays\n",
    "print(\"1. Stacking myarray1 and 2 0:\\n\",np.stack((my_array1, my_array2), axis=-1))\n",
    "\n",
    "# 2. Stack them along a new axis (axis=0)\n",
    "stacked_array_axis0 = np.stack((array_zeros, array_ones), axis=0)\n",
    "\n",
    "# 3. Stack them along a new axis (axis=1)\n",
    "stacked_array_axis1 = np.stack((array_zeros, array_ones), axis=1)\n",
    "\n",
    "# 4. Stack them along a new axis (axis=2)\n",
    "stacked_array_axis2 = np.stack((array_zeros, array_ones), axis=2)\n",
    "\n",
    "# Print the results\n",
    "print(\"\\n2. Stacked along axis 0:\\n\", stacked_array_axis0)\n",
    "print(\"\\n3. Stacked along axis 1:\\n\", stacked_array_axis1)\n",
    "print(\"\\n4. Stacked along axis 2:\\n\", stacked_array_axis2)"
   ]
  },
  {
   "cell_type": "markdown",
   "id": "7780b5b8",
   "metadata": {},
   "source": [
    "---\n",
    "#### <span style=\"color:chocolate\">Numpy broadcasting</span> "
   ]
  },
  {
   "cell_type": "markdown",
   "id": "d105a999",
   "metadata": {},
   "source": [
    "The term broadcasting describes how NumPy treats arrays during arithmetic operations. You can find more here:  https://numpy.org/doc/stable/user/basics.broadcasting.html"
   ]
  },
  {
   "cell_type": "code",
   "execution_count": 15,
   "id": "ce9ca817",
   "metadata": {},
   "outputs": [
    {
     "data": {
      "text/plain": [
       "array([1991, 1992, 1993, 1994, 1995, 1996, 1997, 1998, 1999, 2000, 2001,\n",
       "       2002, 2003, 2004, 2005, 2006, 2007, 2008, 2009, 2010, 2011, 2012,\n",
       "       2013, 2014, 2015, 2016, 2017])"
      ]
     },
     "execution_count": 15,
     "metadata": {},
     "output_type": "execute_result"
    }
   ],
   "source": [
    "# multiplying an array with a scalar\n",
    "years = np.arange(1991, 2018, 1)\n",
    "years * 1"
   ]
  },
  {
   "cell_type": "code",
   "execution_count": 16,
   "id": "d2150eb6",
   "metadata": {},
   "outputs": [
    {
     "data": {
      "text/plain": [
       "array([1993, 1994, 1995, 1996, 1997, 1998, 1999, 2000, 2001, 2002, 2003,\n",
       "       2004, 2005, 2006, 2007, 2008, 2009, 2010, 2011, 2012, 2013, 2014,\n",
       "       2015, 2016, 2017, 2018, 2019])"
      ]
     },
     "execution_count": 16,
     "metadata": {},
     "output_type": "execute_result"
    }
   ],
   "source": [
    "# adding a scalar\n",
    "years + 2"
   ]
  },
  {
   "cell_type": "code",
   "execution_count": 17,
   "id": "d7319a34",
   "metadata": {},
   "outputs": [
    {
     "name": "stdout",
     "output_type": "stream",
     "text": [
      "Array a: [0 1 2]\n",
      "Array b: [0 1 2]\n",
      "Sum of a and b: [0 2 4]\n"
     ]
    }
   ],
   "source": [
    "# many arithmetic operations are applied element wise on a pair of arrays\n",
    "a = np.arange(3)\n",
    "print('Array a:', a)\n",
    "b = np.arange(3)\n",
    "print('Array b:', b)\n",
    "print('Sum of a and b:', a+b)"
   ]
  },
  {
   "cell_type": "code",
   "execution_count": 18,
   "id": "44ac94cd",
   "metadata": {},
   "outputs": [
    {
     "name": "stdout",
     "output_type": "stream",
     "text": [
      "Array a: [[1. 1. 1.]\n",
      " [1. 1. 1.]\n",
      " [1. 1. 1.]]\n",
      "\n",
      "Array b: [0 1 2]\n",
      "\n",
      "Sum of a and b: [[1. 2. 3.]\n",
      " [1. 2. 3.]\n",
      " [1. 2. 3.]]\n"
     ]
    }
   ],
   "source": [
    "# another example\n",
    "a = np.ones((3, 3))\n",
    "print('Array a:', a)\n",
    "b = np.arange(3)\n",
    "print('\\nArray b:', b)\n",
    "print('\\nSum of a and b:', a+b)"
   ]
  },
  {
   "cell_type": "markdown",
   "id": "85e7d3c8",
   "metadata": {},
   "source": [
    "---\n",
    "#### <span style=\"color:chocolate\">Exercise 9:</span> Numpy array standardization (10 points)"
   ]
  },
  {
   "cell_type": "markdown",
   "id": "9bccc9d7",
   "metadata": {},
   "source": [
    "Consider the following (10, 4) array:"
   ]
  },
  {
   "cell_type": "code",
   "execution_count": 19,
   "id": "02a2102e",
   "metadata": {},
   "outputs": [
    {
     "name": "stdout",
     "output_type": "stream",
     "text": [
      "my_array shape:  (10, 4)\n"
     ]
    },
    {
     "data": {
      "text/plain": [
       "array([[5.31221554e-01, 2.37281923e-01, 8.72005547e-01, 9.89537574e-01],\n",
       "       [9.44649530e-01, 2.59047822e-02, 2.41036029e-01, 2.09232762e-01],\n",
       "       [6.91936843e-01, 7.02465192e-01, 5.92360703e-01, 2.85496978e-01],\n",
       "       [9.10061264e-02, 4.74607622e-01, 2.44213847e-01, 3.08055169e-02],\n",
       "       [6.55060658e-01, 9.80750478e-04, 4.46020788e-01, 9.63664756e-01],\n",
       "       [3.86439740e-01, 4.09421652e-01, 2.32061314e-02, 3.67139198e-02],\n",
       "       [3.02058733e-01, 9.58056443e-01, 7.91801052e-01, 5.15142500e-01],\n",
       "       [9.26690622e-02, 6.01623233e-01, 4.45338123e-01, 8.85537478e-01],\n",
       "       [7.66971472e-01, 4.99193674e-01, 5.89632232e-02, 5.72399954e-01],\n",
       "       [2.03701092e-01, 4.48716641e-01, 3.28975282e-01, 4.14938107e-01]])"
      ]
     },
     "execution_count": 19,
     "metadata": {},
     "output_type": "execute_result"
    }
   ],
   "source": [
    "my_array = np.random.random((10, 4))\n",
    "print('my_array shape: ', my_array.shape)\n",
    "my_array"
   ]
  },
  {
   "cell_type": "markdown",
   "id": "c505935d",
   "metadata": {},
   "source": [
    "Peform the following operations on this array:\n",
    "1. Compute and print the mean and std for each column (note: set keepdims=True for proper broadcasting).\n",
    "2. Standardize and print the array and its shape using the mean and std you computed above."
   ]
  },
  {
   "cell_type": "code",
   "execution_count": 20,
   "id": "5a88c63d",
   "metadata": {},
   "outputs": [
    {
     "name": "stdout",
     "output_type": "stream",
     "text": [
      "Mean for each column:\n",
      " [[0.46657148 0.43582519 0.40439207 0.49034695]]\n",
      "\n",
      "Standard deviation for each column:\n",
      " [[0.28155548 0.27825136 0.27021169 0.34356667]]\n",
      "\n",
      "Standardized array:\n",
      " [[ 0.22961753 -0.71353925  1.73054494  1.45296581]\n",
      " [ 1.69798882 -1.47320181 -0.60454839 -0.81822313]\n",
      " [ 0.80042969  0.95827025  0.69563471 -0.5962452 ]\n",
      " [-1.33389469  0.13937912 -0.59278792 -1.33756119]\n",
      " [ 0.66945662 -1.56277561  0.15405964  1.37765927]\n",
      " [-0.28460374 -0.09489096 -1.41069374 -1.32036393]\n",
      " [-0.58429959  1.8768327   1.43372397  0.07217099]\n",
      " [-1.32798845  0.59585707  0.15153323  1.15025863]\n",
      " [ 1.06693003  0.22773827 -1.27836382  0.23882701]\n",
      " [-0.93363622  0.04633023 -0.27910262 -0.21948825]]\n",
      "Shape of standardized array: (10, 4)\n"
     ]
    }
   ],
   "source": [
    "# YOUR CODE HERE\n",
    "#computing mean\n",
    "mean_array= np.mean(my_array, axis=0, keepdims=True)\n",
    "\n",
    "#computing standard deviation\n",
    "std_array = np.std(my_array, axis=0, keepdims=True)\n",
    "\n",
    "#total for broadcasting results\n",
    "total= mean_array + std_array\n",
    "\n",
    "# Print the results\n",
    "print(\"Mean for each column:\\n\", mean_array)\n",
    "print(\"\\nStandard deviation for each column:\\n\", std_array)\n",
    "\n",
    "# Standardize the array\n",
    "standardized_array = (my_array - mean_array) / std_array\n",
    "\n",
    "# Print the standardized array and its shape\n",
    "print(\"\\nStandardized array:\\n\", standardized_array)\n",
    "print(\"Shape of standardized array:\", standardized_array.shape)"
   ]
  },
  {
   "cell_type": "markdown",
   "id": "ebe2eaa0",
   "metadata": {},
   "source": [
    "----\n",
    "#### <span style=\"color:chocolate\">Additional practice question</span> (not graded)"
   ]
  },
  {
   "cell_type": "markdown",
   "id": "d43bdaa7",
   "metadata": {},
   "source": [
    "Consider the following image:"
   ]
  },
  {
   "cell_type": "code",
   "execution_count": 21,
   "id": "e7c61c06",
   "metadata": {},
   "outputs": [
    {
     "name": "stdout",
     "output_type": "stream",
     "text": [
      "[[0.   0.04 0.08 0.12 0.16]\n",
      " [0.2  0.24 0.28 0.32 0.36]\n",
      " [0.4  0.44 0.48 0.52 0.56]\n",
      " [0.6  0.64 0.68 0.72 0.76]\n",
      " [0.8  0.84 0.88 0.92 0.96]]\n"
     ]
    },
    {
     "data": {
      "text/plain": [
       "(5, 5)"
      ]
     },
     "execution_count": 21,
     "metadata": {},
     "output_type": "execute_result"
    }
   ],
   "source": [
    "my_image = np.arange(0, 1, 0.04).reshape(5,5)\n",
    "print(my_image)\n",
    "my_image.shape"
   ]
  },
  {
   "cell_type": "markdown",
   "id": "78f029bd",
   "metadata": {},
   "source": [
    "Perform the following operations on this image (do not overwrite the original image):\n",
    "\n",
    "1. Crop by using a border of size 1;\n",
    "2. Crop by removing:\n",
    "    * the first and the last two rows, and\n",
    "    * the first and the last two columns;\n",
    "3. Reverse the column order;\n",
    "4. set to 0.5 elements divizible by 2."
   ]
  },
  {
   "cell_type": "code",
   "execution_count": 22,
   "id": "c617984f",
   "metadata": {},
   "outputs": [
    {
     "name": "stdout",
     "output_type": "stream",
     "text": [
      "\n",
      "Cropped Image Removing First and Last Two Rows and Columns:\n",
      " [[0.48]]\n"
     ]
    }
   ],
   "source": [
    "# Crop by removing the first and last two rows and columns\n",
    "cropped_image_2x2 = my_image[2:-2, 2:-2]\n",
    "print(\"\\nCropped Image Removing First and Last Two Rows and Columns:\\n\", cropped_image_2x2)\n"
   ]
  },
  {
   "cell_type": "code",
   "execution_count": 23,
   "id": "d7dadfcf",
   "metadata": {},
   "outputs": [
    {
     "name": "stdout",
     "output_type": "stream",
     "text": [
      "\n",
      "Cropped Image with Border of Size 1:\n",
      " [[0.24 0.28 0.32]\n",
      " [0.44 0.48 0.52]\n",
      " [0.64 0.68 0.72]]\n",
      "\n",
      "Cropped first and last two rows and columns:\n",
      " [[0.24 0.28]\n",
      " [0.44 0.48]]\n",
      "\n",
      "Reversed Order:\n",
      " [[0.8  0.84 0.88 0.92 0.96]\n",
      " [0.6  0.64 0.68 0.72 0.76]\n",
      " [0.4  0.44 0.48 0.52 0.56]\n",
      " [0.2  0.24 0.28 0.32 0.36]\n",
      " [0.   0.04 0.08 0.12 0.16]]\n",
      "\n",
      "Image with Elements Divisible by 2 Set to 0.5:\n",
      " [[0.5  0.04 0.08 0.12 0.16]\n",
      " [0.2  0.24 0.28 0.32 0.36]\n",
      " [0.4  0.44 0.48 0.52 0.56]\n",
      " [0.6  0.64 0.68 0.72 0.76]\n",
      " [0.8  0.84 0.88 0.92 0.96]]\n"
     ]
    }
   ],
   "source": [
    "# YOUR CODE HERE\n",
    "# Crop by using a border of size 1\n",
    "cropped_image_border = my_image[1:-1, 1:-1]\n",
    "print(\"\\nCropped Image with Border of Size 1:\\n\", cropped_image_border)\n",
    "\n",
    "#cropping first and last two rows, first and last two columns\n",
    "cropped_rows = my_image[1:3, 1:3]\n",
    "print(\"\\nCropped first and last two rows and columns:\\n\",cropped_rows)\n",
    "\n",
    "#reversing order\n",
    "reversed_order = my_image[::-1]\n",
    "print(\"\\nReversed Order:\\n\",reversed_order)\n",
    "\n",
    "#setting images to 0.5 where it is divisible by 2\n",
    "mod_image = np.where(my_image % 2 == 0, 0.5, my_image)\n",
    "print(\"\\nImage with Elements Divisible by 2 Set to 0.5:\\n\", mod_image)"
   ]
  }
 ],
 "metadata": {
  "kernelspec": {
   "display_name": "Python 3 (ipykernel)",
   "language": "python",
   "name": "python3"
  },
  "language_info": {
   "codemirror_mode": {
    "name": "ipython",
    "version": 3
   },
   "file_extension": ".py",
   "mimetype": "text/x-python",
   "name": "python",
   "nbconvert_exporter": "python",
   "pygments_lexer": "ipython3",
   "version": "3.11.4"
  }
 },
 "nbformat": 4,
 "nbformat_minor": 5
}
