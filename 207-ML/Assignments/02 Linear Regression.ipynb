{
 "cells": [
  {
   "cell_type": "markdown",
   "metadata": {
    "id": "rHLcriKWLRe4"
   },
   "source": [
    "# Assignement 2"
   ]
  },
  {
   "cell_type": "markdown",
   "metadata": {},
   "source": [
    "### <span style=\"color:chocolate\"> Submission requirements </span>\n",
    "\n",
    "Your homework will not be graded if your notebook doesn't include output. In other words, <span style=\"color:red\"> make sure to rerun your notebook before submitting to Gradescope </span> (Note: if you are using Google Colab: go to Edit > Notebook Settings  and uncheck Omit code cell output when saving this notebook, otherwise the output is not printed).\n",
    "\n",
    "Additional points may be deducted if these requirements are not met:\n",
    "\n",
    "    \n",
    "* Comment your code;\n",
    "* Each graph should have a title, labels for each axis, and (if needed) a legend. Each graph should be understandable on its own;\n",
    "* Try and minimize the use of the global namespace (meaning, keep things inside functions).\n",
    "---"
   ]
  },
  {
   "cell_type": "markdown",
   "metadata": {},
   "source": [
    "### Import libraries"
   ]
  },
  {
   "cell_type": "code",
   "execution_count": 1,
   "metadata": {
    "id": "7X58hOMTUH-w"
   },
   "outputs": [],
   "source": [
    "import numpy as np\n",
    "from sklearn.model_selection import train_test_split\n",
    "from sklearn.metrics import mean_squared_error\n",
    "import matplotlib.pyplot as plt"
   ]
  },
  {
   "cell_type": "markdown",
   "metadata": {},
   "source": [
    "### Define functions"
   ]
  },
  {
   "cell_type": "code",
   "execution_count": 2,
   "metadata": {},
   "outputs": [],
   "source": [
    "def create_1d_data(num_examples, w, b, bound):\n",
    "  \"\"\"Create X, Y data with a linear relationship with added noise.\n",
    "\n",
    "  Args:\n",
    "    num_examples: number of examples to generate\n",
    "    w: desired slope\n",
    "    b: desired intercept\n",
    "    bound: lower and upper boundary of the data interval\n",
    "\n",
    "  Returns:\n",
    "    X and Y with shape (num_examples)\n",
    "  \"\"\"\n",
    "  np.random.seed(4)  # consistent random number generation\n",
    "  X = np.arange(num_examples)\n",
    "  deltas = np.random.uniform(low=-bound, high=bound, size=X.shape) # added noise\n",
    "  Y = b + deltas + w * X\n",
    "\n",
    "  return X, Y"
   ]
  },
  {
   "cell_type": "markdown",
   "metadata": {},
   "source": [
    "---\n",
    "### Step 1: Data ingestion"
   ]
  },
  {
   "cell_type": "markdown",
   "metadata": {},
   "source": [
    "Let's start by creating some artificial data using the <span style=\"color:chocolate\">create_1d_data()</span> function defined at the top of the notebook."
   ]
  },
  {
   "cell_type": "code",
   "execution_count": 3,
   "metadata": {
    "id": "6qJg0IiYVJ8U"
   },
   "outputs": [
    {
     "name": "stdout",
     "output_type": "stream",
     "text": [
      "Printing shape of X: (70,)\n",
      "Printing first 10 elements in X: [0 1 2 3 4 5 6 7 8 9]\n",
      "\n",
      "Printing shape of Y: (70,)\n",
      "Printing first 10 elements in Y: [ 1.93405968  3.0944645   5.94536872  7.42963199  9.39545765 10.43217899\n",
      " 13.95254891 14.01246051 16.50596472 18.86958306]\n"
     ]
    }
   ],
   "source": [
    "# Define parameters\n",
    "num_examples = 70\n",
    "w = 2\n",
    "b = 1\n",
    "bound = 1\n",
    "\n",
    "# Create data\n",
    "X, Y = create_1d_data(num_examples, w, b, bound)\n",
    "\n",
    "# Print shapes\n",
    "print('Printing shape of X:', X.shape)\n",
    "print('Printing first 10 elements in X:', X[:10])\n",
    "print('\\nPrinting shape of Y:', Y.shape)\n",
    "print('Printing first 10 elements in Y:', Y[:10])"
   ]
  },
  {
   "cell_type": "markdown",
   "metadata": {
    "id": "8NXo1n9j1LMT"
   },
   "source": [
    "---\n",
    "### Step 2: Data Preprocessing"
   ]
  },
  {
   "cell_type": "markdown",
   "metadata": {},
   "source": [
    "Our objectives here involve adding one more feature to X and creating data partitions."
   ]
  },
  {
   "cell_type": "markdown",
   "metadata": {},
   "source": [
    "### <span style=\"color:chocolate\">Exercise 1:</span> Adding features (10 points)"
   ]
  },
  {
   "cell_type": "markdown",
   "metadata": {},
   "source": [
    "1. Add a column of $1s$ to $X$ (this will serve as an intercept or \"bias\" in our modeling task later on). Note: do not create a new array, just concatenate with the current values;\n",
    "2. Print the shape of the array."
   ]
  },
  {
   "cell_type": "code",
   "execution_count": 4,
   "metadata": {},
   "outputs": [
    {
     "data": {
      "text/plain": [
       "(70, 2)"
      ]
     },
     "execution_count": 4,
     "metadata": {},
     "output_type": "execute_result"
    }
   ],
   "source": [
    "# YOUR CODE HERE\n",
    "#adding column of ones by concatenating\n",
    "X = np.vstack((np.ones(X.shape[0]), X)).T\n",
    "#printing shape\n",
    "X.shape"
   ]
  },
  {
   "cell_type": "markdown",
   "metadata": {},
   "source": [
    "### <span style=\"color:chocolate\">Exercise 2:</span> Data splits (10 points)"
   ]
  },
  {
   "cell_type": "markdown",
   "metadata": {},
   "source": [
    "Using the <span style=\"color:chocolate\">train_test_split()</span> method available in scikit-learn:\n",
    "1. Split the (X,Y) data into training and test paritions by setting test_size=0.2 and random_state=1234. All the other arguments of the method are set to default values. Name the resulting arrays X_train, X_test, Y_train, Y_test;\n",
    "2. Print the shape of each array."
   ]
  },
  {
   "cell_type": "code",
   "execution_count": 5,
   "metadata": {},
   "outputs": [
    {
     "name": "stdout",
     "output_type": "stream",
     "text": [
      "X_train: (56, 2)\n",
      "X_test: (14, 2)\n",
      "Y_train: (56,)\n",
      "Y_test: (14,)\n"
     ]
    }
   ],
   "source": [
    "# YOUR CODE HERE\n",
    "X_train, X_test, Y_train, Y_test = train_test_split(X,Y, test_size= 0.2, random_state = 1234)\n",
    "\n",
    "print(\"X_train:\", X_train.shape)\n",
    "print(\"X_test:\", X_test.shape)\n",
    "print(\"Y_train:\", Y_train.shape)\n",
    "print(\"Y_test:\", Y_test.shape)"
   ]
  },
  {
   "cell_type": "markdown",
   "metadata": {},
   "source": [
    "---\n",
    "### Step 3: Exploratory data analysis (EDA)"
   ]
  },
  {
   "cell_type": "markdown",
   "metadata": {},
   "source": [
    "### <span style=\"color:chocolate\">Exercise 3:</span> Plots (10 points)"
   ]
  },
  {
   "cell_type": "markdown",
   "metadata": {},
   "source": [
    "Create a side-by-side histogram for the values in Y_train and X_train. Make sure to include axes name and titles for each subplot."
   ]
  },
  {
   "cell_type": "code",
   "execution_count": 6,
   "metadata": {},
   "outputs": [
    {
     "data": {
      "image/png": "[encoded data removed]",
      "text/plain": [
       "<Figure size 1000x600 with 2 Axes>"
      ]
     },
     "metadata": {},
     "output_type": "display_data"
    }
   ],
   "source": [
    "# YOUR CODE HERE\n",
    "\n",
    "#creating a figure with two subplots\n",
    "plt.figure(figsize = (10,6))\n",
    "\n",
    "#Y_train histogram\n",
    "plt.subplot(1,2,1)\n",
    "plt.hist(Y_train, bins=15, color=\"blue\", edgecolor=\"black\")\n",
    "plt.xlabel(\"Y_train values\")\n",
    "plt.ylabel(\"Frequency\")\n",
    "plt.title(\"Histogram of Y_train\")\n",
    "\n",
    "#plotting histogram for X_train exlcuding added 2nd column\n",
    "plt.subplot(1,2,2)\n",
    "plt.hist(X_train[:,1], bins=15, color= \"green\", edgecolor=\"black\")\n",
    "plt.xlabel(\"X_train values\")\n",
    "plt.ylabel(\"Frequency\")\n",
    "plt.title(\"Histogram of X_train\")\n",
    "\n",
    "#displaying plots\n",
    "plt.tight_layout()\n",
    "plt.show()"
   ]
  },
  {
   "cell_type": "markdown",
   "metadata": {},
   "source": [
    "---\n",
    "### Step 4: Modeling"
   ]
  },
  {
   "cell_type": "markdown",
   "metadata": {},
   "source": [
    "Let's start by considering the two models proposed in Assignment 1:\n",
    "1. $M_1(x) = 5+x$ \n",
    "2. $M_2(x) = 1+2x$"
   ]
  },
  {
   "cell_type": "markdown",
   "metadata": {},
   "source": [
    "### <span style=\"color:chocolate\">Exercise 4:</span> Practice with Parameters (10 points)"
   ]
  },
  {
   "cell_type": "markdown",
   "metadata": {},
   "source": [
    "Perform the following computations:\n",
    "\n",
    "1. Use matrix multiplication (np.dot) to create $M_1$ and $M_2$ (as previously defined) to produce vectors of predictions using the X_train data. Call these predictions M1_hat_train, M2_hat_train. Hint: the \"learned\" parameters are alredy provided to you;\n",
    "3. Print the shapes of the predictions to verify that they match the shape of Y_train."
   ]
  },
  {
   "cell_type": "code",
   "execution_count": 7,
   "metadata": {
    "id": "aBEZ_QOX6qOi"
   },
   "outputs": [
    {
     "name": "stdout",
     "output_type": "stream",
     "text": [
      "Shape of M1_hat_train (56,)\n",
      "Shape of M2_hat_train (56,)\n",
      "Shape of Y_train (56,)\n"
     ]
    }
   ],
   "source": [
    "# YOUR CODE HERE\n",
    "#defining the parameters of each model\n",
    "M_1 = np.array([5, 1])\n",
    "M_2 = np.array([1, 2])\n",
    "\n",
    "#performing matrix multiplication to compute predictions for X_train\n",
    "M1_hat_train = np.dot(X_train, M_1)\n",
    "M2_hat_train = np.dot(X_train, M_2)\n",
    "\n",
    "#printing shapes\n",
    "print(\"Shape of M1_hat_train\", M1_hat_train.shape)\n",
    "print(\"Shape of M2_hat_train\", M2_hat_train.shape)\n",
    "print(\"Shape of Y_train\", Y_train.shape)"
   ]
  },
  {
   "cell_type": "markdown",
   "metadata": {},
   "source": [
    "### <span style=\"color:chocolate\">Exercise 5:</span> Learn parameters with Gradient Descent (20 points)"
   ]
  },
  {
   "cell_type": "markdown",
   "metadata": {
    "id": "QaXYiTm9ftRf"
   },
   "source": [
    "1. Fill in the <span style=\"color:green\">NotImplemented</span> parts of the <span style=\"color:chocolate\">gradient_descent()</span> function below. Hint: refer to ``02 Linear Regression_helper.ipynb file``;\n",
    "\n",
    "2. Run this function with our artificial (X_train, Y_train) data . Set learning_rate = .0002 and num_epochs = 5. Print out the weights and loss after each epoch. \n",
    "\n",
    "3. Generate a plot with the loss values on the y-axis and the epoch number on the x-axis for visualization. Make sure to include axes name and title."
   ]
  },
  {
   "cell_type": "code",
   "execution_count": 8,
   "metadata": {
    "id": "_hP9rzDyFXTg"
   },
   "outputs": [
    {
     "name": "stdout",
     "output_type": "stream",
     "text": [
      "Epoch 1: Weights = [1.01418788 1.66525772], Loss = 1665.3666608648086\n",
      "Epoch 2: Weights = [1.01895194 1.88825083], Loss = 187.40513955606463\n",
      "Epoch 3: Weights = [1.02055715 1.96299757], Loss = 21.34444785959595\n",
      "Epoch 4: Weights = [1.02110352 1.98805237], Loss = 2.6862122844266816\n",
      "Epoch 5: Weights = [1.02129496 1.99645053], Loss = 0.5898109426970145\n"
     ]
    }
   ],
   "source": [
    "def gradient_descent(inputs, outputs, learning_rate, num_epochs):\n",
    "  \"\"\"Apply the gradient descent algorithm to learn learn linear regression.\n",
    "\n",
    "  Args:\n",
    "    inputs: A 2-D array where each column is an input feature and each\n",
    "            row is a training example.\n",
    "    outputs: A 1-D array containing the real-valued\n",
    "             label corresponding to the input data in the same row.\n",
    "    learning_rate: The learning rate to use for updates.\n",
    "    num_epochs: The number of passes through the full training data.\n",
    "\n",
    "  Returns:\n",
    "    weights: A 2-D array with the learned weights after each training epoch.\n",
    "    losses: A 1-D array with the loss after each epoch.\n",
    "  \"\"\"\n",
    "  # m = number of examples, n = number of features\n",
    "  m, n = inputs.shape\n",
    "  \n",
    "  # We'll use a vector of size n to store the learned weights and initialize\n",
    "  # all weights to 1. \n",
    "  W = np.ones(n)\n",
    "  \n",
    "  # Keep track of the training loss and weights after each step.\n",
    "  losses = []\n",
    "  weights = []\n",
    "  \n",
    "  for epoch in range(num_epochs):\n",
    "    # Append the old weights to the weights list to keep track of them.\n",
    "    weights.append(W.copy())\n",
    "\n",
    "    # Evaluate the current predictions for the training examples given\n",
    "    # the current estimate of W. \n",
    "    predictions = np.dot(inputs, W)\n",
    "    \n",
    "    # Find the difference between the predictions and the actual target\n",
    "    # values.\n",
    "    diff = predictions - outputs\n",
    "    \n",
    "    # In standard linear regression, we want to minimize the sum of squared\n",
    "    # differences. Compute the mean squared error loss. Don't bother with the\n",
    "    # 1/2 scaling factor here.\n",
    "    loss = np.mean(diff **2)\n",
    "\n",
    "    # Append the loss to the losses list to keep a track of it.\n",
    "    losses.append(loss)\n",
    "    \n",
    "    # Compute the gradient with respect to the loss.\n",
    "    # [Formula (4) in the Gradient Descent Implementation]\n",
    "    gradient = (2/m) * np.dot(inputs.T, diff)\n",
    "\n",
    "    # Update weights, scaling the gradient by the learning rate.\n",
    "    W = W - learning_rate * gradient\n",
    "\n",
    "    #print weights after each epoch\n",
    "    print(f\"Epoch {epoch + 1}: Weights = {W}, Loss = {loss}\")\n",
    "      \n",
    "  return np.array(weights), np.array(losses)\n",
    "\n",
    "#setting parameters\n",
    "learning_rate = 0.0002\n",
    "num_epochs = 5\n",
    "\n",
    "#running Gradient descent function\n",
    "weights, losses = gradient_descent(X_train, Y_train, learning_rate, num_epochs)"
   ]
  },
  {
   "cell_type": "code",
   "execution_count": 9,
   "metadata": {},
   "outputs": [
    {
     "data": {
      "image/png": "[encoded data removed]",
      "text/plain": [
       "<Figure size 800x600 with 1 Axes>"
      ]
     },
     "metadata": {},
     "output_type": "display_data"
    }
   ],
   "source": [
    "# YOUR CODE HERE\n",
    "plt.figure(figsize=(8,6))\n",
    "plt.plot(range(1, num_epochs + 1), losses, marker=\"o\")\n",
    "plt.xlabel(\"Epoch\")\n",
    "plt.ylabel(\"Loss\")\n",
    "plt.title(\"Loss vs. Epochs during Gradient Descent\")\n",
    "#plt.grid(True)\n",
    "plt.show()"
   ]
  },
  {
   "cell_type": "markdown",
   "metadata": {},
   "source": [
    "---\n",
    "### Step 5: Hyperparameter tuning"
   ]
  },
  {
   "cell_type": "markdown",
   "metadata": {},
   "source": [
    "Hyperparameter tuning plays an important role in optimizing ML models. One systematically adjusts hyperparameters to find the right balance between model complexity and generalization, ultimately leading to better predictive performance and model effectiveness.\n",
    "\n",
    "Note that hyperparameter tuning is typically performed on **a separate validation dataset**. However, for the purposes of this assignment and based on the ML knowledge you've acquired thus far, we will perform hyperparameter tuning directly on the training data."
   ]
  },
  {
   "cell_type": "markdown",
   "metadata": {},
   "source": [
    "### <span style=\"color:chocolate\">Exercise 6:</span> Tuning hyperparameters (10 points)"
   ]
  },
  {
   "cell_type": "markdown",
   "metadata": {},
   "source": [
    "Answer the following questions:\n",
    "    \n",
    "1. Do you think it would be beneficial to extend the model training in Exercise 5 by increasing the learning rate to 0.02? Justify your answer;<span style=\"color:chocolate\"> No. Even though a high learning rate can lead to faster convergence initially given the model updates its weight more significantly with each step, the updates may too large. This can cause the model to overpass the optimal point and instead of converging, the model might diverge. Increasing the loss instead of decreasing it. It might also cause the model to jump back and forth across the local minimum, or escaping the global minimum entirely. And given the small size of our dataset, I would keep the learning rate at 0.0002 </span>\n",
    "\n",
    "2. Restoring to the previous learning_rate = .0002, would you  consider extending the model training in Exercise 5 by increasing the number of epochs to 10? Justify your answer. <span style=\"color:chocolate\"> I wouldn't mainly due to the size of data points. Going from 5 epochs to 10 increases the ability for the model to learn and adjust it's paarameters during each round, this might also cause the model to learn the noise of the training data too well; reducing it's ability to generalize well on new or unseen data. </span>\n",
    "\n",
    "Note: to support your answers, we recommend the following actions:\n",
    "- create side-by-side subplots to show the loss at each epoch (make sure to include axes name and title), and\n",
    "- print the loss at the last epoch under the following scenarios:\n",
    "    - learning_rate=.0002, num_epochs=5;\n",
    "    - learning_rate=.02, num_epochs=5;\n",
    "    - learning_rate=.0002, num_epochs=10."
   ]
  },
  {
   "cell_type": "code",
   "execution_count": 10,
   "metadata": {},
   "outputs": [
    {
     "name": "stdout",
     "output_type": "stream",
     "text": [
      "Epoch 1: Weights = [1.01418788 1.66525772], Loss = 1665.3666608648086\n",
      "Epoch 2: Weights = [1.01895194 1.88825083], Loss = 187.40513955606463\n",
      "Epoch 3: Weights = [1.02055715 1.96299757], Loss = 21.34444785959595\n",
      "Epoch 4: Weights = [1.02110352 1.98805237], Loss = 2.6862122844266816\n",
      "Epoch 5: Weights = [1.02129496 1.99645053], Loss = 0.5898109426970145\n",
      "Epoch 1: Weights = [ 2.41878839 67.5257721 ], Loss = 1665.3666608648086\n",
      "Epoch 2: Weights = [  -90.4006607  -4288.59461095], Loss = 7139122.1589806825\n",
      "Epoch 3: Weights = [  5987.51452476 280950.89027965], Loss = 30610071189.148193\n",
      "Epoch 4: Weights = [  -391995.3005066  -18396577.98716516], Loss = 131245337997012.52\n",
      "Epoch 5: Weights = [2.56679857e+07 1.20461112e+09], Loss = 5.6273435758095014e+17\n",
      "Epoch 1: Weights = [1.01418788 1.66525772], Loss = 1665.3666608648086\n",
      "Epoch 2: Weights = [1.01895194 1.88825083], Loss = 187.40513955606463\n",
      "Epoch 3: Weights = [1.02055715 1.96299757], Loss = 21.34444785959595\n",
      "Epoch 4: Weights = [1.02110352 1.98805237], Loss = 2.6862122844266816\n",
      "Epoch 5: Weights = [1.02129496 1.99645053], Loss = 0.5898109426970145\n",
      "Epoch 6: Weights = [1.02136744 1.9992654 ], Loss = 0.3542629436554315\n",
      "Epoch 7: Weights = [1.02140003 2.00020876], Loss = 0.32779656662430195\n",
      "Epoch 8: Weights = [1.02141926 2.0005248 ], Loss = 0.324822167109412\n",
      "Epoch 9: Weights = [1.021434   2.00063055], Loss = 0.324487277598242\n",
      "Epoch 10: Weights = [1.02144724 2.00066583], Loss = 0.3244489580924435\n"
     ]
    },
    {
     "data": {
      "image/png": "[encoded data removed]",
      "text/plain": [
       "<Figure size 1500x500 with 3 Axes>"
      ]
     },
     "metadata": {},
     "output_type": "display_data"
    },
    {
     "name": "stdout",
     "output_type": "stream",
     "text": [
      "Epoch 1 Loss: 0.5898109426970145\n",
      "Epoch 2 Loss: 5.6273435758095014e+17\n",
      "Epoch 3 Loss 0.3244489580924435\n"
     ]
    }
   ],
   "source": [
    "# YOUR CODE HERE\n",
    "\n",
    "# Scenario 1: learning_rate = 0.0002, num_epochs = 5\n",
    "weights, losses = gradient_descent(X_train, Y_train, learning_rate, num_epochs)\n",
    "\n",
    "#Scenario 2: learning_rate=.02, num_epochs=5;\n",
    "learning_rate_2 = 0.02\n",
    "num_epochs_2 = 5\n",
    "weights_2, losses_2 = gradient_descent(X_train, Y_train, learning_rate_2, num_epochs_2)\n",
    "\n",
    "#Scenario 3: learning_rate=.0002, num_epochs=10.\n",
    "learning_rate_3 = 0.0002\n",
    "num_epochs_3 = 10\n",
    "weights_3, losses_3 = gradient_descent(X_train, Y_train, learning_rate_3, num_epochs_3)\n",
    "\n",
    "# Plotting the results side by side\n",
    "plt.figure(figsize=(15, 5))\n",
    "\n",
    "# Plot for Scenario 1\n",
    "plt.subplot(1, 3, 1)\n",
    "plt.plot(range(1, num_epochs + 1), losses, marker='o', color='blue')\n",
    "plt.xlabel('Epoch')\n",
    "plt.ylabel('Loss')\n",
    "plt.title(f'Learning Rate: {learning_rate}, Epochs: {num_epochs}')\n",
    "plt.grid(True)\n",
    "\n",
    "\n",
    "# Plot for Scenario 2\n",
    "plt.subplot(1, 3, 2)\n",
    "plt.plot(range(1, num_epochs_2 + 1), losses_2, marker='o', color='green')\n",
    "plt.xlabel('Epoch')\n",
    "plt.ylabel('Loss')\n",
    "plt.title(f'Learning Rate: {learning_rate_2}, Epochs: {num_epochs_2}')\n",
    "plt.grid(True)\n",
    "\n",
    "# Plot for Scenario 3\n",
    "plt.subplot(1, 3, 3)\n",
    "plt.plot(range(1, num_epochs_3 + 1), losses_3, marker='o', color='red')\n",
    "plt.xlabel('Epoch')\n",
    "plt.ylabel('Loss')\n",
    "plt.title(f'Learning Rate: {learning_rate_3}, Epochs: {num_epochs_3}')\n",
    "plt.grid(True)\n",
    "\n",
    "plt.tight_layout()\n",
    "plt.show()\n",
    "\n",
    "# Printing the loss at the last epoch for each scenario\n",
    "loss_last_epoch_1 = losses[-1]\n",
    "loss_last_epoch_2 = losses_2[-1]\n",
    "loss_last_epoch_3 = losses_3[-1]\n",
    "\n",
    "print(\"Epoch 1 Loss:\", loss_last_epoch_1) \n",
    "print(\"Epoch 2 Loss:\", loss_last_epoch_2)\n",
    "print(\"Epoch 3 Loss\", loss_last_epoch_3)"
   ]
  },
  {
   "cell_type": "markdown",
   "metadata": {},
   "source": [
    "<span style=\"color:yellow\">Scenario 1:</span> The loss decreases steadily, slowing converging towards an optimal solution reaching a final loss of 0.59.\n",
    "\n",
    "<span style=\"color:yellow\">Scenario 2:</span> The loss starts at a lower rate but increases dramatically and becomes extremely large by the end of the final epoch reaching a final loss of 5.63. This shows that the learning rate of 0.02 is too high, causing the model to diverge rather than converge. Because the weights are converging too drastically, it is leading to poor performance and instability in the model. \n",
    "\n",
    "<span style=\"color:yellow\">Scenario 3:</span> Like scenario 1, the loss decreases steadily, and continues to do so over the 10 epochs reaching a final loss of 0.32. This is an improvement over scenario 1, indicating that extending the training with a small learning rate allows the model to refine its predictions further without overfitting. However, we will need to see how it performs with unseen data during model evaluation/testing phase. "
   ]
  },
  {
   "cell_type": "markdown",
   "metadata": {},
   "source": [
    "### <span style=\"color:chocolate\">Exercise 7:</span> Choosing the best model (10 points)"
   ]
  },
  {
   "cell_type": "markdown",
   "metadata": {},
   "source": [
    "Write down the learned model that you consider most optimal given your answers to the hyperparameter tuning exercise. Call this model $M_3(x)$."
   ]
  },
  {
   "cell_type": "markdown",
   "metadata": {},
   "source": [
    "*Based on the results from the hyperparameter tuning exercise, the model that appears most optimal is the one trained with a learning rate of 0.0002 and 10 epochs. This combination resulted in a steadily decreasing loss with no signs of divergence or overfitting.*\n",
    "\n",
    "- The intercept term (bias) $W_0$ in $M_3(x)$ is approximately 1.02144724 \n",
    "- The slope (coefficient) $W_1$​ in $M_3(x)$ is approximately 2.00066583\n",
    "\n",
    "Making the final model for M3:\n",
    "\n",
    "$M_3(x)$ = 1.0214 + 2.0007 . $x$\n",
    "\n"
   ]
  },
  {
   "cell_type": "code",
   "execution_count": 11,
   "metadata": {},
   "outputs": [],
   "source": [
    "# YOUR CODE HERE\n",
    "# Define the final learned weights from the gradient descent process\n",
    "W_0 = 1.02144724  # Intercept (bias) term\n",
    "W_1 = 2.00066583  # Slope (coefficient) for the feature x\n",
    "\n",
    "M_3 = W_0 + W_1 * X_train[:,1]"
   ]
  },
  {
   "cell_type": "markdown",
   "metadata": {},
   "source": [
    "---\n",
    "### Step 6: Evaluation and Generalization"
   ]
  },
  {
   "cell_type": "markdown",
   "metadata": {},
   "source": [
    "To evaluate our models, we assess their performance based on how closely they fit the available data. In other words, we compare the true value $y$ with the predicted value $\\hat{y}$ for each $x$."
   ]
  },
  {
   "cell_type": "markdown",
   "metadata": {},
   "source": [
    "### <span style=\"color:chocolate\">Exercise 8:</span> Computing MSE (10 points)"
   ]
  },
  {
   "cell_type": "markdown",
   "metadata": {},
   "source": [
    "Assess the performance of the three models ($M_1(x)$, $M_2(x)$, $M_3(x)$) by computing the MSE metric on the training dataset. Hint: you can use the <span style=\"color:chocolate\">mean_squared_error()</span> method available in sklearn.metrics."
   ]
  },
  {
   "cell_type": "code",
   "execution_count": 12,
   "metadata": {},
   "outputs": [
    {
     "name": "stdout",
     "output_type": "stream",
     "text": [
      "Model 1 training MSE: 1397.608983658733\n",
      "Model 2 training MSE: 0.3280557752885262\n",
      "Model 3 training MSE: 0.32444396065799336\n"
     ]
    }
   ],
   "source": [
    "# YOUR CODE HERE\n",
    "\n",
    "#Computing predictions on the training dataset using \n",
    "#using only the original X values (2nd column)\n",
    "M1_hat_train = 5 + X_train[:,1]\n",
    "M2_hat_train = 1 + 2 * X_train[:,1]\n",
    "M3_hat_train = W_0 + W_1 * X_train[:,1]\n",
    "\n",
    "mse_M1_train = mean_squared_error(Y_train, M1_hat_train)\n",
    "mse_M2_train = mean_squared_error(Y_train, M2_hat_train)\n",
    "mse_M3_train = mean_squared_error(Y_train, M3_hat_train)\n",
    "\n",
    "print(\"Model 1 training MSE:\",mse_M1_train)\n",
    "print(\"Model 2 training MSE:\",mse_M2_train)\n",
    "print(\"Model 3 training MSE:\",mse_M3_train)"
   ]
  },
  {
   "cell_type": "markdown",
   "metadata": {},
   "source": [
    "### <span style=\"color:chocolate\">Exercise 9:</span> Generalization (10 points)"
   ]
  },
  {
   "cell_type": "markdown",
   "metadata": {},
   "source": [
    "Which of the three models ($M_1(x)$, $M_2(x)$, $M_3(x)$) demonstrates better generalization ability?"
   ]
  },
  {
   "cell_type": "code",
   "execution_count": 13,
   "metadata": {},
   "outputs": [
    {
     "name": "stdout",
     "output_type": "stream",
     "text": [
      "Model 1 test MSE: 1113.6003911560044\n",
      "Model 2 test MSE: 0.2908006971666422\n",
      "Model 3 test MSE: 0.29736402278924146\n"
     ]
    }
   ],
   "source": [
    "# YOUR CODE HERE\n",
    "#Computing predictions on the training dataset using \n",
    "#using only the original X values (2nd column)\n",
    "M1_hat_test = 5 + X_test[:,1]\n",
    "M2_hat_test = 1 + 2 * X_test[:,1]\n",
    "M3_hat_test = W_0 + W_1 * X_test[:,1]\n",
    "\n",
    "mse_M1_test = mean_squared_error(Y_test, M1_hat_test)\n",
    "mse_M2_test = mean_squared_error(Y_test, M2_hat_test)\n",
    "mse_M3_test = mean_squared_error(Y_test, M3_hat_test)\n",
    "\n",
    "print(\"Model 1 test MSE:\", mse_M1_test)\n",
    "print(\"Model 2 test MSE:\", mse_M2_test)\n",
    "print(\"Model 3 test MSE:\", mse_M3_test)"
   ]
  },
  {
   "cell_type": "markdown",
   "metadata": {},
   "source": [
    "Model 2 demonstrates the best generalization ability, as it has the lowest MSE on the test dataset. While model 3 is very close in performance, model 2 actually generalizes slightly better to new data. This suggests that the algorithm reaches it's optimal balance between the learning rate and number of epochs at a learning rate of 0.0002 with 5 epochs. At 5 epochs, the model has learned enough from the data to generalize well without overfitting. Increasing the number of epochs to 10 as in model 3 slightly improved the fit on the training data but didn't result in better generalization on the test data."
   ]
  },
  {
   "cell_type": "markdown",
   "metadata": {},
   "source": [
    "----\n",
    "#### <span style=\"color:chocolate\">Additional practice question</span> (not graded)"
   ]
  },
  {
   "cell_type": "markdown",
   "metadata": {},
   "source": [
    "1. How does stochastic gradient descent (SGD) differ from the gradient descent (GD) approach implemented in Exercise 5?\n",
    "2. Determine the optimal weights for model $M_3(x)$ using SGD. Does SGD converge more rapidly? Explain the reasons for your answer."
   ]
  },
  {
   "cell_type": "markdown",
   "metadata": {},
   "source": [
    "In Gradient Descent, the algorithm computes the gradient of the loss function all of the training data at once, so each update to the model's parameters is made after evaluating the entire dataset. Making fewer updates (one per epoch) with each update being precise. \n",
    "\n",
    "In Stochastic Gradient Descent, the model's parameters are only updated for each training example rather than the whole dataset. This means faster updates leading to noiser path to convergence since each update is based on a single data point."
   ]
  },
  {
   "cell_type": "code",
   "execution_count": 14,
   "metadata": {},
   "outputs": [
    {
     "name": "stdout",
     "output_type": "stream",
     "text": [
      "Epoch 1: Weights = [1.01840836 1.99187664], Loss = 0.4553805674080858\n",
      "Epoch 2: Weights = [1.01872263 1.99186953], Loss = 0.45537250087296105\n",
      "Epoch 3: Weights = [1.01903602 1.99186245], Loss = 0.45536450601569645\n",
      "Epoch 4: Weights = [1.01934852 1.99185539], Loss = 0.4553565823580731\n",
      "Epoch 5: Weights = [1.01966015 1.99184834], Loss = 0.4553487294252775\n"
     ]
    },
    {
     "data": {
      "text/plain": [
       "(array([1.01966015, 1.99184834]), 0.4553487294252775)"
      ]
     },
     "execution_count": 14,
     "metadata": {},
     "output_type": "execute_result"
    }
   ],
   "source": [
    "# YOUR CODE HERE\n",
    "# Define the SGD function to dtermine the optimal weights\n",
    "def stochastic_gradient_descent(inputs, outputs, learning_rate, num_epochs):\n",
    "    \"\"\"Apply the stochastic gradient descent algorithm to learn linear regression.\n",
    "\n",
    "    Args:\n",
    "        inputs: A 2-D array where each column is an input feature and each\n",
    "                row is a training example.\n",
    "        outputs: A 1-D array containing the real-valued\n",
    "                 label corresponding to the input data in the same row.\n",
    "        learning_rate: The learning rate to use for updates.\n",
    "        num_epochs: The number of passes through the full training data.\n",
    "\n",
    "    Returns:\n",
    "        weights: The learned weights after training.\n",
    "        losses: A list of the loss after each epoch.\n",
    "    \"\"\"\n",
    "    m, n = inputs.shape\n",
    "    W = np.ones(n)  # Initialize weights\n",
    "    losses = []\n",
    "\n",
    "    for epoch in range(num_epochs):\n",
    "        for i in range(m):\n",
    "            xi = inputs[i, :]\n",
    "            yi = outputs[i]\n",
    "            prediction = np.dot(xi, W)\n",
    "            error = prediction - yi\n",
    "            gradient = xi * error\n",
    "            W = W - learning_rate * gradient\n",
    "\n",
    "        # Compute the loss for this epoch (over the whole dataset)\n",
    "        predictions = np.dot(inputs, W)\n",
    "        loss = np.mean((predictions - outputs) ** 2)\n",
    "        losses.append(loss)\n",
    "        print(f'Epoch {epoch + 1}: Weights = {W}, Loss = {loss}')\n",
    "      \n",
    "    return W, losses\n",
    "\n",
    "# Running SGD with the same learning rate and epochs\n",
    "learning_rate_sgd = 0.0002\n",
    "num_epochs_sgd = 5\n",
    "\n",
    "# Determine the optimal weights for model M_3(x) using SGD\n",
    "W_sgd, losses_sgd = stochastic_gradient_descent(X_train, Y_train, learning_rate_sgd, num_epochs_sgd)\n",
    "\n",
    "# Compare with the batch gradient descent results\n",
    "W_sgd, losses_sgd[-1]  # Final weights and loss after SGD\n"
   ]
  },
  {
   "cell_type": "code",
   "execution_count": 15,
   "metadata": {},
   "outputs": [
    {
     "name": "stdout",
     "output_type": "stream",
     "text": [
      "MSE on Test Data using SGD: 0.34680628508117206\n"
     ]
    }
   ],
   "source": [
    "# YOUR ANSWER HERE\n",
    "\n",
    "# Final weights obtained from SGD\n",
    "W_sgd = np.array([1.01966015, 1.99184834])  # Example values from your output\n",
    "\n",
    "# Compute predictions on the test dataset\n",
    "M3_hat_test_sgd = np.dot(X_test, W_sgd)\n",
    "\n",
    "# Calculate the MSE for model M_3(x) on the test dataset using SGD\n",
    "mse_M3_test_sgd = mean_squared_error(Y_test, M3_hat_test_sgd)\n",
    "\n",
    "# Print the test MSE for the model trained with SGD\n",
    "print(f'MSE on Test Data using SGD: {mse_M3_test_sgd}')\n"
   ]
  }
 ],
 "metadata": {
  "accelerator": "GPU",
  "colab": {
   "collapsed_sections": [],
   "name": "02 Linear Regression.ipynb",
   "private_outputs": true,
   "provenance": [],
   "toc_visible": true
  },
  "kernelspec": {
   "display_name": "Python 3 (ipykernel)",
   "language": "python",
   "name": "python3"
  },
  "language_info": {
   "codemirror_mode": {
    "name": "ipython",
    "version": 3
   },
   "file_extension": ".py",
   "mimetype": "text/x-python",
   "name": "python",
   "nbconvert_exporter": "python",
   "pygments_lexer": "ipython3",
   "version": "3.11.4"
  }
 },
 "nbformat": 4,
 "nbformat_minor": 4
}
